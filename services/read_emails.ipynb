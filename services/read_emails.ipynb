{
 "cells": [
  {
   "cell_type": "code",
   "execution_count": 1,
   "metadata": {},
   "outputs": [],
   "source": [
    "import marimo as mo\n",
    "from services_api import init_gmail_service, get_email_message, get_email_message_details"
   ]
  },
  {
   "cell_type": "code",
   "execution_count": 2,
   "metadata": {},
   "outputs": [
    {
     "name": "stdout",
     "output_type": "stream",
     "text": [
      "gmail v1 service created successfully\n"
     ]
    }
   ],
   "source": [
    "client_secret_file = 'client_secret.json'\n",
    "service = init_gmail_service(client_secret_file)"
   ]
  },
  {
   "cell_type": "code",
   "execution_count": 3,
   "metadata": {},
   "outputs": [],
   "source": [
    "messages = get_email_message(service, max_results=5, label_ids=['IMPORTANT'])"
   ]
  },
  {
   "cell_type": "code",
   "execution_count": 4,
   "metadata": {},
   "outputs": [
    {
     "data": {
      "text/plain": [
       "[{'id': '1983b08cdc6f69b9', 'threadId': '1983b08cdc6f69b9'},\n",
       " {'id': '1983ae14057aded2', 'threadId': '1983ae14057aded2'},\n",
       " {'id': '1983a33ab44335df', 'threadId': '1983a33ab44335df'},\n",
       " {'id': '19839f332013e6a2', 'threadId': '19839f332013e6a2'},\n",
       " {'id': '198399d857177879', 'threadId': '198399d857177879'}]"
      ]
     },
     "execution_count": 4,
     "metadata": {},
     "output_type": "execute_result"
    }
   ],
   "source": [
    "messages"
   ]
  },
  {
   "cell_type": "code",
   "execution_count": 5,
   "metadata": {},
   "outputs": [
    {
     "name": "stdout",
     "output_type": "stream",
     "text": [
      "Subject: Beli Mainan Diskon s.d. 65%🔥\n",
      "From: \"BLIBLI.COM\" <newsletter@blibli.com>\n",
      "Recipient: marsha.nabilah@gmail.com\n",
      "Date: Thu, 24 Jul 2025 06:04:48 +0000 (UTC)\n",
      "Body: <!DOCTYPE html>\n",
      "\n",
      "<html lang=\"en\" xmlns:o=\"urn:schemas-microsoft-com:office:office\" xmlns:v=\"urn:sc...\n",
      "Snippet: LEGO, ﻿ ͏ ﻿ ͏ ﻿ ͏ ﻿ ͏ ﻿ ͏ ﻿ ͏ ﻿ ͏ ﻿ ͏ ﻿ ͏ ﻿ ͏ ﻿ ͏ ﻿ ͏ ﻿ ͏ ﻿ ͏ ﻿ ͏ ﻿ ͏ ﻿ ͏ ﻿ ͏ ﻿ ͏ ﻿ ͏ ﻿ ͏ ﻿ ͏ ﻿ ͏ ﻿ ͏ ﻿ ͏ ﻿ ͏ ﻿ ͏ ﻿ ͏ ﻿ ͏ ﻿ ͏ ﻿ ͏ ﻿ ͏ ﻿ ͏ ﻿ ͏ ﻿ ͏ ﻿ ͏ ﻿ ͏ ﻿ ͏ ﻿ ͏ ﻿ ͏ ﻿ ͏ ﻿ ͏ ﻿ ͏ ﻿ ͏ ﻿ ͏ ﻿ ͏ ﻿ ͏ ﻿ ͏ ﻿ ͏\n",
      "Has Attachments: False\n",
      "Star: False\n",
      "Labels: CATEGORY_PROMOTIONS, UNREAD, IMPORTANT, INBOX\n",
      "--------------------------------------------------\n",
      "Subject: Why isn't Microsoft Office free? Apple gives away their equivalent software for free.\n",
      "From: Quora Digest <english-quora-digest@quora.com>\n",
      "Recipient: marsha.nabilah@gmail.com\n",
      "Date: Thu, 24 Jul 2025 05:21:36 +0000\n",
      "Body: Top stories for Marsha\n",
      "\n",
      "-----\n",
      "\n",
      "Question: Why isn't Microsoft Office free? Apple gives away their...\n",
      "Snippet: Consider the two options. * Coffee - $5 a cup. * Coffee - Free with every $100 of gasoline. If you sell petrol, and want to give away stuff to make people buy your petrol rather than someone… Top\n",
      "Has Attachments: False\n",
      "Star: False\n",
      "Labels: UNREAD, IMPORTANT, CATEGORY_UPDATES, INBOX\n",
      "--------------------------------------------------\n",
      "Subject: SETENGAH HARGA📢 Philips Avent, Lego Duplo & Merries Popok Bayi\n",
      "From: \"BLIBLI.COM\" <newsletter@blibli.com>\n",
      "Recipient: marsha.nabilah@gmail.com\n",
      "Date: Thu, 24 Jul 2025 02:11:39 +0000 (UTC)\n",
      "Body: <!DOCTYPE html>\n",
      "\n",
      "<html lang=\"en\" xmlns:o=\"urn:schemas-microsoft-com:office:office\" xmlns:v=\"urn:sc...\n",
      "Snippet: Mulai 27Rb-an Serbu DISKON sd 50% Flash Sale 3x Sehari Mulai 12:00 WIB. Terbatas di Festival 14th Blibli Sekarang. ﻿ ͏ ﻿ ͏ ﻿ ͏ ﻿ ͏ ﻿ ͏ ﻿ ͏ ﻿ ͏ ﻿ ͏ ﻿ ͏ ﻿ ͏ ﻿ ͏ ﻿ ͏ ﻿ ͏ ﻿ ͏ ﻿ ͏ ﻿ ͏ ﻿ ͏ ﻿ ͏ ﻿ ͏ ﻿ ͏ ﻿ ͏ ﻿\n",
      "Has Attachments: False\n",
      "Star: False\n",
      "Labels: CATEGORY_PROMOTIONS, UNREAD, IMPORTANT, INBOX\n",
      "--------------------------------------------------\n",
      "Subject: Courses to help you climb that career ladder. On sale now.\n",
      "From: Udemy <hello@students.udemy.com>\n",
      "Recipient: marsha.nabilah@gmail.com\n",
      "Date: Thu, 24 Jul 2025 01:01:35 +0000 (UTC)\n",
      "Body: Whether you're prepping for an interview or you're after a promotion, we can help you learn the skil...\n",
      "Snippet: Whether you&#39;re prepping for an interview or you&#39;re after a promotion, we can help you learn the skills you need to reach your career goals. ͏ ‌ ﻿ ͏ ‌ ﻿ ͏ ‌ ﻿ ͏ ‌ ﻿ ͏ ‌ ﻿ ͏ ‌ ﻿ ͏ ‌ ﻿ ͏ ‌ ﻿ ͏ ‌ ﻿\n",
      "Has Attachments: False\n",
      "Star: False\n",
      "Labels: CATEGORY_PROMOTIONS, UNREAD, IMPORTANT, INBOX\n",
      "--------------------------------------------------\n",
      "Subject: Marsha Nabilah, freelance on LinkedIn today!\n",
      "From: LinkedIn <messages-noreply@linkedin.com>\n",
      "Recipient: Marsha Nabilah Wibowo <marsha.nabilah@gmail.com>\n",
      "Date: Wed, 23 Jul 2025 23:27:58 +0000 (UTC)\n",
      "Body: Marsha Nabilah, your skills are in demand\n",
      "Hundreds on LinkedIn are looking for freelancers with you...\n",
      "Snippet: Showcase your skills &amp; land projects ͏ ͏ ͏ ͏ ͏ ͏ ͏ ͏ ͏ ͏ ͏ ͏ ͏ ͏ ͏ ͏ ͏ ͏ ͏ ͏ ͏ ͏ ͏ ͏ ͏ ͏ ͏ ͏ ͏ ͏ ͏ ͏ ͏ ͏ ͏ ͏ ͏ ͏ ͏ ͏ ͏ ͏ ͏ ͏ ͏ ͏ ͏ ͏ ͏ ͏ ͏ ͏ ͏ ͏ ͏ ͏ ͏ ͏ ͏ ͏ ͏ ͏ ͏ ͏ ͏ ͏ ͏ ͏ ͏ ͏ ͏ ͏ ͏ ͏ ͏ ͏ ͏ ͏ ͏ ͏\n",
      "Has Attachments: False\n",
      "Star: False\n",
      "Labels: IMPORTANT, CATEGORY_SOCIAL, INBOX\n",
      "--------------------------------------------------\n"
     ]
    }
   ],
   "source": [
    "for msg in messages:\n",
    "    details = get_email_message_details(service, msg['id'])\n",
    "    if details:\n",
    "        print(f\"Subject: {details['subject']}\")\n",
    "        print(f\"From: {details['sender']}\")\n",
    "        print(f\"Recipient: {details['recipients']}\")\n",
    "        print(f\"Date: {details['date']}\")\n",
    "        print(f\"Body: {details['body'][:100]}...\")  # Print first 100 characters of body\n",
    "        print(f\"Snippet: {details['snippet']}\")\n",
    "        print(f\"Has Attachments: {details['has_attachments']}\")\n",
    "        print(f\"Star: {details['star']}\")\n",
    "        print(f\"Labels: {details['label']}\")\n",
    "        print(\"-\" * 50)"
   ]
  }
 ],
 "metadata": {
  "kernelspec": {
   "display_name": "base",
   "language": "python",
   "name": "python3"
  },
  "language_info": {
   "codemirror_mode": {
    "name": "ipython",
    "version": 3
   },
   "file_extension": ".py",
   "mimetype": "text/x-python",
   "name": "python",
   "nbconvert_exporter": "python",
   "pygments_lexer": "ipython3",
   "version": "3.12.2"
  }
 },
 "nbformat": 4,
 "nbformat_minor": 2
}
