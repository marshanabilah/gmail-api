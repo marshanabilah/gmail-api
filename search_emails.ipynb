{
 "cells": [
  {
   "cell_type": "code",
   "execution_count": 1,
   "metadata": {},
   "outputs": [
    {
     "name": "stdout",
     "output_type": "stream",
     "text": [
      "gmail v1 service created successfully\n"
     ]
    }
   ],
   "source": [
    "import marimo as mo\n",
    "from gmail_api import init_gmail_service, get_email_message_details, search_emails, search_email_conversations\n",
    "\n",
    "client_file = \"client_secret.json\"\n",
    "service = init_gmail_service(client_file)"
   ]
  },
  {
   "cell_type": "code",
   "execution_count": null,
   "metadata": {},
   "outputs": [],
   "source": [
    "query = 'from:me'\n",
    "email_messages = search_emails(service, query, max_results=30)\n",
    "\n",
    "for message in email_messages:\n",
    "    email_detail = get_email_message_details(service, message['id'])\n",
    "    print(message['id'])\n",
    "    print(f\"Subject: {email_detail['subject']}\")\n",
    "    print(f\"Date: {email_detail['date']}\")\n",
    "    print(f\"Snippet: {email_detail['snippet']}\")\n",
    "    print(f\"Labels: {email_detail['label']}\")\n",
    "    print(f\"Body: {email_detail['body']}\") \n",
    "    print(\"-\" * 50)"
   ]
  }
 ],
 "metadata": {
  "kernelspec": {
   "display_name": "base",
   "language": "python",
   "name": "python3"
  },
  "language_info": {
   "codemirror_mode": {
    "name": "ipython",
    "version": 3
   },
   "file_extension": ".py",
   "mimetype": "text/x-python",
   "name": "python",
   "nbconvert_exporter": "python",
   "pygments_lexer": "ipython3",
   "version": "3.12.2"
  }
 },
 "nbformat": 4,
 "nbformat_minor": 2
}
